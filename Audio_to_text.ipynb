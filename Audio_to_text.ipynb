{
  "nbformat": 4,
  "nbformat_minor": 0,
  "metadata": {
    "colab": {
      "provenance": []
    },
    "kernelspec": {
      "name": "python3",
      "display_name": "Python 3"
    },
    "language_info": {
      "name": "python"
    }
  },
  "cells": [
    {
      "cell_type": "code",
      "execution_count": 2,
      "metadata": {
        "id": "w9AvCTNEhSHJ",
        "colab": {
          "base_uri": "https://localhost:8080/"
        },
        "outputId": "07fd5918-967b-4931-cc75-5a17f2fb3923"
      },
      "outputs": [
        {
          "output_type": "stream",
          "name": "stdout",
          "text": [
            "Looking in indexes: https://pypi.org/simple, https://us-python.pkg.dev/colab-wheels/public/simple/\n",
            "Collecting SpeechRecognition\n",
            "  Downloading SpeechRecognition-3.8.1-py2.py3-none-any.whl (32.8 MB)\n",
            "\u001b[K     |████████████████████████████████| 32.8 MB 206 kB/s \n",
            "\u001b[?25hCollecting pydub\n",
            "  Downloading pydub-0.25.1-py2.py3-none-any.whl (32 kB)\n",
            "Installing collected packages: SpeechRecognition, pydub\n",
            "Successfully installed SpeechRecognition-3.8.1 pydub-0.25.1\n"
          ]
        }
      ],
      "source": [
        "!pip3 install SpeechRecognition pydub"
      ]
    },
    {
      "cell_type": "code",
      "source": [
        "import speech_recognition as sr"
      ],
      "metadata": {
        "id": "965OAPpriV6N"
      },
      "execution_count": 3,
      "outputs": []
    },
    {
      "cell_type": "code",
      "source": [
        "filename = \"16-122828-0002.wav\""
      ],
      "metadata": {
        "id": "yOtAWom3iUNw"
      },
      "execution_count": 17,
      "outputs": []
    },
    {
      "cell_type": "code",
      "source": [
        "# initialize the recognizer\n",
        "r = sr.Recognizer()"
      ],
      "metadata": {
        "id": "e0ETJTVUidDn"
      },
      "execution_count": 18,
      "outputs": []
    },
    {
      "cell_type": "code",
      "source": [
        "# open the file\n",
        "with sr.AudioFile(filename) as source:\n",
        "    # listen for the data (load audio to memory)\n",
        "    audio_data = r.record(source)\n",
        "    # recognize (convert from speech to text)\n",
        "    text = r.recognize_google(audio_data)\n",
        "    print(text)"
      ],
      "metadata": {
        "colab": {
          "base_uri": "https://localhost:8080/"
        },
        "id": "zXCIc1WhihnO",
        "outputId": "31895c4e-f18c-4d13-eb52-e395edede6c9"
      },
      "execution_count": 19,
      "outputs": [
        {
          "output_type": "stream",
          "name": "stdout",
          "text": [
            "I believe you're just talking nonsense\n"
          ]
        }
      ]
    },
    {
      "cell_type": "markdown",
      "source": [
        "**FOR Large Files**"
      ],
      "metadata": {
        "id": "4hhcGUatkv5n"
      }
    },
    {
      "cell_type": "code",
      "source": [
        "# importing libraries \n",
        "import speech_recognition as sr \n",
        "import os \n",
        "from pydub import AudioSegment\n",
        "from pydub.silence import split_on_silence\n",
        "\n",
        "# create a speech recognition object\n",
        "r = sr.Recognizer()\n",
        "\n",
        "# a function that splits the audio file into chunks\n",
        "# and applies speech recognition\n",
        "def get_large_audio_transcription(path):\n",
        "    \"\"\"\n",
        "    Splitting the large audio file into chunks\n",
        "    and apply speech recognition on each of these chunks\n",
        "    \"\"\"\n",
        "    # open the audio file using pydub\n",
        "    sound = AudioSegment.from_wav(path)  \n",
        "    # split audio sound where silence is 700 miliseconds or more and get chunks\n",
        "    chunks = split_on_silence(sound,\n",
        "        # experiment with this value for your target audio file\n",
        "        min_silence_len = 500,\n",
        "        # adjust this per requirement\n",
        "        silence_thresh = sound.dBFS-14,\n",
        "        # keep the silence for 1 second, adjustable as well\n",
        "        keep_silence=500,\n",
        "    )\n",
        "    folder_name = \"audio-chunks\"\n",
        "    # create a directory to store the audio chunks\n",
        "    if not os.path.isdir(folder_name):\n",
        "        os.mkdir(folder_name)\n",
        "    whole_text = \"\"\n",
        "    # process each chunk \n",
        "    for i, audio_chunk in enumerate(chunks, start=1):\n",
        "        # export audio chunk and save it in\n",
        "        # the `folder_name` directory.\n",
        "        chunk_filename = os.path.join(folder_name, f\"chunk{i}.wav\")\n",
        "        audio_chunk.export(chunk_filename, format=\"wav\")\n",
        "        # recognize the chunk\n",
        "        with sr.AudioFile(chunk_filename) as source:\n",
        "            audio_listened = r.record(source)\n",
        "            # try converting it to text\n",
        "            try:\n",
        "                text = r.recognize_google(audio_listened)\n",
        "            except sr.UnknownValueError as e:\n",
        "                print(\"Error:\", str(e))\n",
        "            else:\n",
        "                text = f\"{text.capitalize()}. \"\n",
        "                print(chunk_filename, \":\", text)\n",
        "                whole_text += text\n",
        "    # return the text for all chunks detected\n",
        "    return whole_text"
      ],
      "metadata": {
        "id": "rNKch5obkua7"
      },
      "execution_count": 21,
      "outputs": []
    },
    {
      "cell_type": "code",
      "source": [
        "path = \"19-11-2022.wav\"\n",
        "print(\"\\nFull text:\", get_large_audio_transcription(path))"
      ],
      "metadata": {
        "colab": {
          "base_uri": "https://localhost:8080/",
          "height": 1000
        },
        "id": "xNvcWQsQk-rH",
        "outputId": "a31f3ac0-02ac-4d40-c18f-114c789845ae"
      },
      "execution_count": 22,
      "outputs": [
        {
          "output_type": "stream",
          "name": "stdout",
          "text": [
            "audio-chunks/chunk1.wav : Ladies and gentlemen. \n",
            "audio-chunks/chunk2.wav : Thank you for choosing doctor johanna sweet schaller's infection-protection instructions. \n",
            "audio-chunks/chunk3.wav : Please listen to everything calmly. \n",
            "audio-chunks/chunk4.wav : Once you are ready for the exam please visit the link we sent you via email. \n",
            "audio-chunks/chunk5.wav : You can also find this link again in the training documents which were also sent to you. \n",
            "audio-chunks/chunk6.wav : After a successful check we will send you your instructions via email. \n",
            "audio-chunks/chunk7.wav : This takes about 12 to working days. \n",
            "audio-chunks/chunk8.wav : Please print this out sign it and presented to your employer. \n",
            "audio-chunks/chunk9.wav : Now let's start with the instruction. \n",
            "audio-chunks/chunk10.wav : The infection protection act according to paragraph 43 paragraph one number one. \n",
            "audio-chunks/chunk11.wav : Before carrying out the following activities for the first time the following persons require a certificate in accordance with the infection protection act paragraph 43 paragraph one number one. \n",
            "audio-chunks/chunk12.wav : This certificate can be issued by means of a briefing by the responsible health authority or commissioned an authorized doctor. \n",
            "audio-chunks/chunk13.wav : Anyone who produces treats were markets food as part of a trade-in comes into direct contact with it. \n",
            "audio-chunks/chunk14.wav : G. \n",
            "audio-chunks/chunk15.wav : By hand or indirectly by an object's in the kitchen. \n",
            "audio-chunks/chunk16.wav : G. \n",
            "audio-chunks/chunk17.wav : Crockery cutlery another work materials but also in the kitchens are pubs restaurants canteens coffee shops or other communal catering facilities must be instructed before starting their work. \n",
            "audio-chunks/chunk18.wav : In particular this includes the following foods. \n",
            "audio-chunks/chunk19.wav : Meat poultry meat and product made their from. \n",
            "audio-chunks/chunk20.wav : Milk and milk-based products. \n",
            "audio-chunks/chunk21.wav : Fish crustaceans or molliscum products made their from. \n",
            "audio-chunks/chunk22.wav : Egg products. \n",
            "audio-chunks/chunk23.wav : Infant or toddler food. \n",
            "audio-chunks/chunk24.wav : Edible isis and product made their from. \n",
            "audio-chunks/chunk25.wav : Baked goods with undercooked or overheated fillings and toppings. \n",
            "audio-chunks/chunk26.wav : Delicatessen raw vegetable and potato salads marinades mayonnaise has other emulsified sauces and nutritional yeast. \n",
            "audio-chunks/chunk27.wav : What is the purpose of this law. \n",
            "audio-chunks/chunk28.wav : The purpose of this law is to prevent communicable diseases in humans as well as to detect infections at an early stage and prevent them from spreading. \n",
            "audio-chunks/chunk29.wav : Prohibition of activity according to paragraph 42. \n",
            "audio-chunks/chunk30.wav : According to paragraph 42 sick or suspicious persons may not work or be employed. \n",
            "audio-chunks/chunk31.wav : The baton activities includes the manufacturer treatment or marketing of perishable food such as. \n",
            "audio-chunks/chunk32.wav : Meat poultry meat and products made their from. \n",
            "audio-chunks/chunk33.wav : Milk and milk-based products. \n",
            "audio-chunks/chunk34.wav : Fish crustaceans or molluscs in product made their from. \n",
            "audio-chunks/chunk35.wav : Egg products. \n",
            "audio-chunks/chunk36.wav : Infant and young child food. \n",
            "audio-chunks/chunk37.wav : Edible isis and product made their from. \n",
            "audio-chunks/chunk38.wav : Baked goods as well as baked goods with an undercooked or overheated filling or with a topping. \n",
            "audio-chunks/chunk39.wav : Delicatessen raw vegetable and potato salad marinades mayonnaise and nutritional yeast. \n",
            "audio-chunks/chunk40.wav : Sprouts in sprouts for consumption and seeds for the production of sprouts and sprouts for rock consumption. \n",
            "audio-chunks/chunk41.wav : In addition sick or suspicious persons may not work or be employed in the kitchens of restaurants or other communal catering facilities. \n",
            "audio-chunks/chunk42.wav : This applies accordingly if these people come into contact with equipment and commodities in such a way that pathogen transmission to food as possible. \n",
            "audio-chunks/chunk43.wav : There is also a ban on activities according to section 42 for persons who suffer from infected wounds or skin diseases. \n",
            "audio-chunks/chunk44.wav : If such people are excreting certain pathogens. \n",
            "audio-chunks/chunk45.wav : G. \n",
            "audio-chunks/chunk46.wav : Shigella salmonella enterohemorrhagic or clarify brian they are also not allowed to take action. \n",
            "audio-chunks/chunk47.wav : Furthermore there is a ban on activities in the case of infectious gastroenteritis. \n",
            "audio-chunks/chunk48.wav : This is sudden and contagious diarrhea. \n",
            "audio-chunks/chunk49.wav : This is triggered by. \n",
            "audio-chunks/chunk50.wav : Salmonella shigella bacteria staphylococci campylobacter rotavirus azure other diarrhea pathogens. \n",
            "audio-chunks/chunk51.wav : If there is a suspicion of viral hepatitis a or e typhoid or paratyphoid cholera shigella dysenteriae or loose salmonella no work may be carried out either. \n",
            "audio-chunks/chunk52.wav : The following symptoms indicate the diseases mentioned above. \n",
            "audio-chunks/chunk53.wav : Diarrhea with more than two loose stools per day possibly with nausea vomiting and fever. \n",
            "audio-chunks/chunk54.wav : High fever with severe headache abdominal or joint pain and constipation. \n",
            "audio-chunks/chunk55.wav : Severe diarrhea only follows a few days later. \n",
            "audio-chunks/chunk56.wav : There are signs of typhoid in paratyphoid. \n",
            "audio-chunks/chunk57.wav : Typical of cholera are milky white diarrhea with a high loss of fluids. \n",
            "audio-chunks/chunk58.wav : Yellowing of the skin and eyeballs with weakness and loss of appetite indicate hepatitis a or e. \n",
            "audio-chunks/chunk59.wav : Wounds or sores from skin conditions can be infected if they are red slaoui weeping or swollen. \n",
            "audio-chunks/chunk60.wav : At detection ranking suspected illness or in the event of elimination you must inform your employer immediately. \n",
            "audio-chunks/chunk61.wav : Food-borne illnesses must be taken seriously. \n",
            "audio-chunks/chunk62.wav : For example a 77 year-old man died after a birthday party because salmonella was found in the desert. \n",
            "audio-chunks/chunk63.wav : Another 25 guests are real. \n",
            "audio-chunks/chunk64.wav : Pathways of transmission of bacteria and viruses. \n",
            "audio-chunks/chunk65.wav : Ready-to-eat foods are contaminated with the following pathogens. \n",
            "audio-chunks/chunk66.wav : I have the direct route humans as germ carriers in the event of an illness or indirectly via. \n",
            "audio-chunks/chunk67.wav : Dirty hands. \n",
            "audio-chunks/chunk68.wav : Dirty kitchen accessories such as wooden plates cutlery ladles dirty pots and others. \n",
            "audio-chunks/chunk69.wav : I'm clean and soiled work clothes. \n",
            "audio-chunks/chunk70.wav : Unclean or raw foods. \n",
            "audio-chunks/chunk71.wav : Humans are the natural habitat for microorganisms including pathogens. \n",
            "audio-chunks/chunk72.wav : In particular these can be found. \n",
            "audio-chunks/chunk73.wav : On the forehead. \n",
            "audio-chunks/chunk74.wav : In the nasopharynx. \n",
            "audio-chunks/chunk75.wav : In the mouth. \n",
            "audio-chunks/chunk76.wav : In the gastrointestinal tract. \n",
            "audio-chunks/chunk77.wav : On the skin. \n"
          ]
        },
        {
          "output_type": "error",
          "ename": "error",
          "evalue": "ignored",
          "traceback": [
            "\u001b[0;31m---------------------------------------------------------------------------\u001b[0m",
            "\u001b[0;31merror\u001b[0m                                     Traceback (most recent call last)",
            "\u001b[0;32m<ipython-input-22-8fb44071b46a>\u001b[0m in \u001b[0;36m<module>\u001b[0;34m\u001b[0m\n\u001b[1;32m      1\u001b[0m \u001b[0mpath\u001b[0m \u001b[0;34m=\u001b[0m \u001b[0;34m\"19-11-2022.wav\"\u001b[0m\u001b[0;34m\u001b[0m\u001b[0;34m\u001b[0m\u001b[0m\n\u001b[0;32m----> 2\u001b[0;31m \u001b[0mprint\u001b[0m\u001b[0;34m(\u001b[0m\u001b[0;34m\"\\nFull text:\"\u001b[0m\u001b[0;34m,\u001b[0m \u001b[0mget_large_audio_transcription\u001b[0m\u001b[0;34m(\u001b[0m\u001b[0mpath\u001b[0m\u001b[0;34m)\u001b[0m\u001b[0;34m)\u001b[0m\u001b[0;34m\u001b[0m\u001b[0;34m\u001b[0m\u001b[0m\n\u001b[0m",
            "\u001b[0;32m<ipython-input-21-9fd628ce5bd5>\u001b[0m in \u001b[0;36mget_large_audio_transcription\u001b[0;34m(path)\u001b[0m\n\u001b[1;32m     39\u001b[0m         \u001b[0;31m# recognize the chunk\u001b[0m\u001b[0;34m\u001b[0m\u001b[0;34m\u001b[0m\u001b[0;34m\u001b[0m\u001b[0m\n\u001b[1;32m     40\u001b[0m         \u001b[0;32mwith\u001b[0m \u001b[0msr\u001b[0m\u001b[0;34m.\u001b[0m\u001b[0mAudioFile\u001b[0m\u001b[0;34m(\u001b[0m\u001b[0mchunk_filename\u001b[0m\u001b[0;34m)\u001b[0m \u001b[0;32mas\u001b[0m \u001b[0msource\u001b[0m\u001b[0;34m:\u001b[0m\u001b[0;34m\u001b[0m\u001b[0;34m\u001b[0m\u001b[0m\n\u001b[0;32m---> 41\u001b[0;31m             \u001b[0maudio_listened\u001b[0m \u001b[0;34m=\u001b[0m \u001b[0mr\u001b[0m\u001b[0;34m.\u001b[0m\u001b[0mrecord\u001b[0m\u001b[0;34m(\u001b[0m\u001b[0msource\u001b[0m\u001b[0;34m)\u001b[0m\u001b[0;34m\u001b[0m\u001b[0;34m\u001b[0m\u001b[0m\n\u001b[0m\u001b[1;32m     42\u001b[0m             \u001b[0;31m# try converting it to text\u001b[0m\u001b[0;34m\u001b[0m\u001b[0;34m\u001b[0m\u001b[0;34m\u001b[0m\u001b[0m\n\u001b[1;32m     43\u001b[0m             \u001b[0;32mtry\u001b[0m\u001b[0;34m:\u001b[0m\u001b[0;34m\u001b[0m\u001b[0;34m\u001b[0m\u001b[0m\n",
            "\u001b[0;32m/usr/local/lib/python3.7/dist-packages/speech_recognition/__init__.py\u001b[0m in \u001b[0;36mrecord\u001b[0;34m(self, source, duration, offset)\u001b[0m\n\u001b[1;32m    495\u001b[0m                     \u001b[0moffset_reached\u001b[0m \u001b[0;34m=\u001b[0m \u001b[0;32mTrue\u001b[0m\u001b[0;34m\u001b[0m\u001b[0;34m\u001b[0m\u001b[0m\n\u001b[1;32m    496\u001b[0m \u001b[0;34m\u001b[0m\u001b[0m\n\u001b[0;32m--> 497\u001b[0;31m             \u001b[0mbuffer\u001b[0m \u001b[0;34m=\u001b[0m \u001b[0msource\u001b[0m\u001b[0;34m.\u001b[0m\u001b[0mstream\u001b[0m\u001b[0;34m.\u001b[0m\u001b[0mread\u001b[0m\u001b[0;34m(\u001b[0m\u001b[0msource\u001b[0m\u001b[0;34m.\u001b[0m\u001b[0mCHUNK\u001b[0m\u001b[0;34m)\u001b[0m\u001b[0;34m\u001b[0m\u001b[0;34m\u001b[0m\u001b[0m\n\u001b[0m\u001b[1;32m    498\u001b[0m             \u001b[0;32mif\u001b[0m \u001b[0mlen\u001b[0m\u001b[0;34m(\u001b[0m\u001b[0mbuffer\u001b[0m\u001b[0;34m)\u001b[0m \u001b[0;34m==\u001b[0m \u001b[0;36m0\u001b[0m\u001b[0;34m:\u001b[0m \u001b[0;32mbreak\u001b[0m\u001b[0;34m\u001b[0m\u001b[0;34m\u001b[0m\u001b[0m\n\u001b[1;32m    499\u001b[0m \u001b[0;34m\u001b[0m\u001b[0m\n",
            "\u001b[0;32m/usr/local/lib/python3.7/dist-packages/speech_recognition/__init__.py\u001b[0m in \u001b[0;36mread\u001b[0;34m(self, size)\u001b[0m\n\u001b[1;32m    282\u001b[0m                 \u001b[0msample_width\u001b[0m \u001b[0;34m=\u001b[0m \u001b[0;36m4\u001b[0m  \u001b[0;31m# make sure we thread the buffer as 32-bit audio now, after converting it from 24-bit audio\u001b[0m\u001b[0;34m\u001b[0m\u001b[0;34m\u001b[0m\u001b[0m\n\u001b[1;32m    283\u001b[0m             \u001b[0;32mif\u001b[0m \u001b[0mself\u001b[0m\u001b[0;34m.\u001b[0m\u001b[0maudio_reader\u001b[0m\u001b[0;34m.\u001b[0m\u001b[0mgetnchannels\u001b[0m\u001b[0;34m(\u001b[0m\u001b[0;34m)\u001b[0m \u001b[0;34m!=\u001b[0m \u001b[0;36m1\u001b[0m\u001b[0;34m:\u001b[0m  \u001b[0;31m# stereo audio\u001b[0m\u001b[0;34m\u001b[0m\u001b[0;34m\u001b[0m\u001b[0m\n\u001b[0;32m--> 284\u001b[0;31m                 \u001b[0mbuffer\u001b[0m \u001b[0;34m=\u001b[0m \u001b[0maudioop\u001b[0m\u001b[0;34m.\u001b[0m\u001b[0mtomono\u001b[0m\u001b[0;34m(\u001b[0m\u001b[0mbuffer\u001b[0m\u001b[0;34m,\u001b[0m \u001b[0msample_width\u001b[0m\u001b[0;34m,\u001b[0m \u001b[0;36m1\u001b[0m\u001b[0;34m,\u001b[0m \u001b[0;36m1\u001b[0m\u001b[0;34m)\u001b[0m  \u001b[0;31m# convert stereo audio data to mono\u001b[0m\u001b[0;34m\u001b[0m\u001b[0;34m\u001b[0m\u001b[0m\n\u001b[0m\u001b[1;32m    285\u001b[0m             \u001b[0;32mreturn\u001b[0m \u001b[0mbuffer\u001b[0m\u001b[0;34m\u001b[0m\u001b[0;34m\u001b[0m\u001b[0m\n\u001b[1;32m    286\u001b[0m \u001b[0;34m\u001b[0m\u001b[0m\n",
            "\u001b[0;31merror\u001b[0m: not a whole number of frames"
          ]
        }
      ]
    },
    {
      "cell_type": "code",
      "source": [
        "\n",
        "print(sr.__version__)\n",
        "r = sr.Recognizer()\n",
        "\n",
        "file_audio = sr.AudioFile('file_audio.wav')\n",
        "\n",
        "with file_audio as source:\n",
        "   audio_text = r.record(source)\n",
        "\n",
        "print(type(audio_text))\n",
        "print(r.recognize_google(audio_text))"
      ],
      "metadata": {
        "id": "u05oQIXYhZO8",
        "colab": {
          "base_uri": "https://localhost:8080/",
          "height": 374
        },
        "outputId": "3d3b45c2-35ba-4bc9-bca4-07886294cfd5"
      },
      "execution_count": 1,
      "outputs": [
        {
          "output_type": "error",
          "ename": "ModuleNotFoundError",
          "evalue": "ignored",
          "traceback": [
            "\u001b[0;31m---------------------------------------------------------------------------\u001b[0m",
            "\u001b[0;31mModuleNotFoundError\u001b[0m                       Traceback (most recent call last)",
            "\u001b[0;32m<ipython-input-1-3395f184fb4f>\u001b[0m in \u001b[0;36m<module>\u001b[0;34m\u001b[0m\n\u001b[0;32m----> 1\u001b[0;31m \u001b[0;32mimport\u001b[0m \u001b[0mspeech_recognition\u001b[0m \u001b[0;32mas\u001b[0m \u001b[0msr\u001b[0m\u001b[0;34m\u001b[0m\u001b[0;34m\u001b[0m\u001b[0m\n\u001b[0m\u001b[1;32m      2\u001b[0m \u001b[0mprint\u001b[0m\u001b[0;34m(\u001b[0m\u001b[0msr\u001b[0m\u001b[0;34m.\u001b[0m\u001b[0m__version__\u001b[0m\u001b[0;34m)\u001b[0m\u001b[0;34m\u001b[0m\u001b[0;34m\u001b[0m\u001b[0m\n\u001b[1;32m      3\u001b[0m \u001b[0mr\u001b[0m \u001b[0;34m=\u001b[0m \u001b[0msr\u001b[0m\u001b[0;34m.\u001b[0m\u001b[0mRecognizer\u001b[0m\u001b[0;34m(\u001b[0m\u001b[0;34m)\u001b[0m\u001b[0;34m\u001b[0m\u001b[0;34m\u001b[0m\u001b[0m\n\u001b[1;32m      4\u001b[0m \u001b[0;34m\u001b[0m\u001b[0m\n\u001b[1;32m      5\u001b[0m \u001b[0mfile_audio\u001b[0m \u001b[0;34m=\u001b[0m \u001b[0msr\u001b[0m\u001b[0;34m.\u001b[0m\u001b[0mAudioFile\u001b[0m\u001b[0;34m(\u001b[0m\u001b[0;34m'file_audio.wav'\u001b[0m\u001b[0;34m)\u001b[0m\u001b[0;34m\u001b[0m\u001b[0;34m\u001b[0m\u001b[0m\n",
            "\u001b[0;31mModuleNotFoundError\u001b[0m: No module named 'speech_recognition'",
            "",
            "\u001b[0;31m---------------------------------------------------------------------------\u001b[0;32m\nNOTE: If your import is failing due to a missing package, you can\nmanually install dependencies using either !pip or !apt.\n\nTo view examples of installing some common dependencies, click the\n\"Open Examples\" button below.\n\u001b[0;31m---------------------------------------------------------------------------\u001b[0m\n"
          ],
          "errorDetails": {
            "actions": [
              {
                "action": "open_url",
                "actionText": "Open Examples",
                "url": "/notebooks/snippets/importing_libraries.ipynb"
              }
            ]
          }
        }
      ]
    }
  ]
}